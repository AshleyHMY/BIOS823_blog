{
 "cells": [
  {
   "cell_type": "markdown",
   "metadata": {},
   "source": [
    "# 823 Assignment2"
   ]
  },
  {
   "cell_type": "markdown",
   "metadata": {},
   "source": [
    "**Number theory and a Google recruitment puzzle**\n",
    "\n",
    "Find the first 10-digit prime in the decimal expansion of 17π. \n",
    "\n",
    "The first 5 digits in the decimal expansion of π are 14159. The first 4-digit prime in the decimal expansion of π are 4159. You are asked to find the first 10-digit prime in the decimal expansion of 17π. First solve sub-problems (divide and conquer):\n",
    "\n",
    "- Write a function to generate an arbitrary large expansion of a mathematical expression like π. Hint: You can use the standard library `decimal` or the 3rd party library `sympy` to do this\n",
    "- Write a function to check if a number is prime. Hint: See Sieve of Eratosthenes\n",
    "- Write a function to generate sliding windows of a specified width from a long iterable (e.g. a string representation of a number)\n",
    "\n",
    "Write unit tests for each of these three functions. You are encouraged, but not required, to try [test-driven development](https://en.wikipedia.org/wiki/Test-driven_development).\n",
    "\n",
    "Now use these helper functions to write the function that you need.\n",
    "Write a unit test for this final function, given that the first 10-digit prime in the expansion e is 7427466391. Finally, solve the given problem."
   ]
  },
  {
   "cell_type": "markdown",
   "metadata": {},
   "source": [
    "This assignment can be found in my github blog (named as Biostat 823 Assignment2): https://ashleyhmy.github.io/BIOS823_blog/"
   ]
  },
  {
   "cell_type": "code",
   "execution_count": 288,
   "metadata": {},
   "outputs": [],
   "source": [
    "import sympy as sym\n",
    "import math\n",
    "import unittest"
   ]
  },
  {
   "cell_type": "code",
   "execution_count": 427,
   "metadata": {},
   "outputs": [],
   "source": [
    "# Write a function to generate large arbitary expression for scientific expression\n",
    "def num_expansion(expr, args):\n",
    "    \"\"\"\n",
    "    generate an arbitary large expansion for a scientific expression like pi and e, returns numeric expression.\n",
    "    \n",
    "    expr is the mathematical expression to be converted eg, expr = sym.exp(1) use the sympy package to get scientific expression for e\n",
    "    args is the number of significant numbers required eg, args = 5\n",
    "    \n",
    "    Examples to get arbitary expression for e with 5 significant numbers:\n",
    "    >>> num_expansion(expr, 5)\n",
    "    2.7183\n",
    "    \"\"\"\n",
    "    num = expr.evalf(args)\n",
    "    return num"
   ]
  },
  {
   "cell_type": "code",
   "execution_count": 430,
   "metadata": {},
   "outputs": [
    {
     "data": {
      "text/latex": [
       "$\\displaystyle 2.71828182845904523536028747135266249775724709369995957496696762772407663035354759457138217852516642742746639193200305992181741359662904357290033429526$"
      ],
      "text/plain": [
       "2.71828182845904523536028747135266249775724709369995957496696762772407663035354759457138217852516642742746639193200305992181741359662904357290033429526"
      ]
     },
     "execution_count": 430,
     "metadata": {},
     "output_type": "execute_result"
    }
   ],
   "source": [
    "expr = sym.exp(1)\n",
    "num_expansion(expr, 200)"
   ]
  },
  {
   "cell_type": "code",
   "execution_count": 241,
   "metadata": {},
   "outputs": [],
   "source": [
    "# Write a function to check if a number is a prime\n",
    "def is_prime(num):\n",
    "    \"\"\"\n",
    "    Take input num to check if num is a prime, if num is a prime return True, \n",
    "    if num is not a prime return False.\n",
    "    Example:\n",
    "    >>>is_prime(17)\n",
    "    False\n",
    "    \"\"\"\n",
    "    \n",
    "    if num<2:\n",
    "        return False\n",
    "    if num==2:\n",
    "        return True\n",
    "    if num>2 and num%2 == 0:\n",
    "        return False\n",
    "    for i in range(3, 1 + math.floor(math.sqrt(num)), 2):\n",
    "        if num%i == 0:\n",
    "            return False\n",
    "    return True"
   ]
  },
  {
   "cell_type": "code",
   "execution_count": 387,
   "metadata": {},
   "outputs": [],
   "source": [
    "# Write a function to generate sliding windows of a sequence\n",
    "def get_window(seq, digits):\n",
    "    \"\"\"\n",
    "    seq is the input, a list of numbers \n",
    "    win_size is the size of the window\n",
    "    \n",
    "    Example:\n",
    "    seq = [1,2,3,4,5,6]\n",
    "    win_size = 2\n",
    "    >>> window(seq, win_size, step)\n",
    "    [[1,2], [2,3], [3,4], [4,5], [5,6]]\n",
    "    \"\"\"\n",
    "    \n",
    "    num_of_chunk = int(len(seq)-digits + 1)\n",
    "    for i in range(0, num_of_chunk):\n",
    "        yield seq[i:i+digits]"
   ]
  },
  {
   "cell_type": "code",
   "execution_count": 442,
   "metadata": {},
   "outputs": [
    {
     "name": "stderr",
     "output_type": "stream",
     "text": [
      "test_is_prime (__main__.TestFunctions) ... ok\n",
      "test_num_expansion (__main__.TestFunctions) ... ok\n",
      "test_window (__main__.TestFunctions) ... ok\n",
      "\n",
      "----------------------------------------------------------------------\n",
      "Ran 3 tests in 0.003s\n",
      "\n",
      "OK\n"
     ]
    }
   ],
   "source": [
    "# Use unittest package to test the three functions above (num_expansion, is_prime, get_window)\n",
    "class TestFunctions(unittest.TestCase):\n",
    "\n",
    "    def test_num_expansion(self):\n",
    "        result = pi.evalf(5)\n",
    "        self.assertEqual(num_expansion(pi, 5), result)\n",
    "\n",
    "    def test_is_prime(self):\n",
    "        self.assertEqual(is_prime(17), True)\n",
    "        self.assertEqual(is_prime(10), False)\n",
    "\n",
    "    def test_window(self):\n",
    "        seq = [1,2,3,4]\n",
    "        self.assertEqual(list(get_window(seq, 3)), [[1,2,3],[2,3,4]])\n",
    "\n",
    "if __name__ == \"__main__\":\n",
    "    unittest.main(argv=[''], verbosity =2, exit=False)"
   ]
  },
  {
   "cell_type": "code",
   "execution_count": 438,
   "metadata": {},
   "outputs": [],
   "source": [
    "# Now use the three helper function above to write a function to get the first 10 digit of a number\n",
    "def get_first_prime(expr, args, digits):\n",
    "    \"\"\"\n",
    "    The input expr is the methametical expression that want to be expanded\n",
    "    The input args represents how many significant number is required from the methametical expression\n",
    "    The input digits represents the number of digits is in the prime\n",
    "    Example:\n",
    "    >>>get_first_prime(pi, 200, 10)\n",
    "    5926535897\n",
    "    \"\"\"\n",
    "    num1 = num_expansion(expr, args)\n",
    "    str1 = str(num1)\n",
    "    list1 = str1.split('.')\n",
    "    lst = [''.join(list1[0:2])]\n",
    "    num = lst[0]\n",
    "    seq = [int(a) for a in str(num)]\n",
    "    windows = list(window(seq, digits))\n",
    "    prime_lst = []\n",
    "    for win in windows:\n",
    "        str1 = ''.join(map(str, win))\n",
    "        num_to_check = int(str1)\n",
    "        if is_prime(num_to_check) == True:\n",
    "            prime_lst.append(num_to_check)\n",
    "    prime = prime_lst[0]\n",
    "    return prime"
   ]
  },
  {
   "cell_type": "code",
   "execution_count": 462,
   "metadata": {},
   "outputs": [
    {
     "name": "stderr",
     "output_type": "stream",
     "text": [
      "test_get_first_prime (__main__.TestFunctions) ... ok\n",
      "\n",
      "----------------------------------------------------------------------\n",
      "Ran 1 test in 0.021s\n",
      "\n",
      "OK\n"
     ]
    }
   ],
   "source": [
    "# test get_first_prime() function\n",
    "class TestFunctions(unittest.TestCase):\n",
    "    '''To check whether the output of get_first_prime() function is equal to 7427466391\n",
    "    '''\n",
    "    def test_get_first_prime(self):\n",
    "        expr = sym.exp(1)\n",
    "        self.assertEqual(get_first_prime(expr, 200, 10), 7427466391)\n",
    "\n",
    "\n",
    "if __name__ == \"__main__\":\n",
    "    unittest.main(argv=[''], verbosity =2, exit=False)"
   ]
  },
  {
   "cell_type": "code",
   "execution_count": 458,
   "metadata": {},
   "outputs": [
    {
     "name": "stdout",
     "output_type": "stream",
     "text": [
      "The first 10 digit prime of 17π is 8649375157\n"
     ]
    }
   ],
   "source": [
    "# Find the first 10 digits of 17pi\n",
    "get_first_prime(pi*17, 50, 10)\n",
    "print(\"The first 10 digit prime of 17\\u03C0 is\", get_first_prime(pi*17, 50, 10))"
   ]
  }
 ],
 "metadata": {
  "kernelspec": {
   "display_name": "Python 3",
   "language": "python",
   "name": "python3"
  },
  "language_info": {
   "codemirror_mode": {
    "name": "ipython",
    "version": 3
   },
   "file_extension": ".py",
   "mimetype": "text/x-python",
   "name": "python",
   "nbconvert_exporter": "python",
   "pygments_lexer": "ipython3",
   "version": "3.7.8"
  }
 },
 "nbformat": 4,
 "nbformat_minor": 4
}
