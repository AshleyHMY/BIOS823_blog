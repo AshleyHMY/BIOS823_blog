{
 "cells": [
  {
   "cell_type": "markdown",
   "metadata": {},
   "source": [
    "# Biostat823 Assignment1"
   ]
  },
  {
   "cell_type": "markdown",
   "metadata": {},
   "source": [
    "***Biostat 823 assignment1-math is fun Ashley Hu***"
   ]
  },
  {
   "cell_type": "markdown",
   "metadata": {},
   "source": [
    "***Q1 By listing the first six prime numbers 2,3,5,7,11 and 13, we can see that the 6th prime is 13. What is the 10001st prime number? (answered by 424,641 people)***"
   ]
  },
  {
   "cell_type": "code",
   "execution_count": 1,
   "metadata": {},
   "outputs": [
    {
     "name": "stdout",
     "output_type": "stream",
     "text": [
      "10001 th prime number is: 104743\n"
     ]
    }
   ],
   "source": [
    "n = 10001\n",
    "prime_numbers = [2,3]\n",
    "i = 3\n",
    "if (0<n<3):\n",
    "    print(n, 'th prime number is:', prime_numbers[n-1])\n",
    "elif(n>2):\n",
    "    while(True):\n",
    "        i+=1\n",
    "        flag = False\n",
    "        for j in range(2, int(i/2)+1):\n",
    "            if (i%j==0):\n",
    "                # i is not a prime number if i%j==0. Only need to check the first half of i.\n",
    "                flag = True\n",
    "                break\n",
    "        if (flag==False):\n",
    "            prime_numbers.append(i)\n",
    "        if(len(prime_numbers)==n):\n",
    "            break\n",
    "    print(n, 'th prime number is:', prime_numbers[n-1])\n",
    "else:\n",
    "    print('Please enter a valid number')"
   ]
  },
  {
   "cell_type": "markdown",
   "metadata": {},
   "source": [
    "Explanation for Q1:\n",
    "In this question I want to find the 10001st prime number let n = 10001. I created a list called prime_numbers that includes the first two prime number 2 and 3. In the first if statement when n=1 the first prime number is 2 and n=2 the second prime number is 3. I added more elements(prime numbers) to the prime_numbers list. Then I want to check if integers greater than 3 is a prime. First let i=4 and I want to check if 4 is a prime using the for loop (for j in range(2, 3). Here I used int(i/2)+1 to reduce calculation (eg, 10=2x5, if 10 can be divded by 2, we can conclude 10 is not a prime, do not need to check if 10 can be divided by 5 again). If 4 can be divided by 2 or 3, flag will be equal to True and 4 will not be added to the prime_numbers list. Then let i=5 and run the for loop (for j in range(2, 3)). 5 cannot be divided by 2 or 3, thus, 5 is a prime number and 5 is the third element in the prime_numbers list. The code will print \"3th prime number is 5. let n=10001, the code will give the 10001th prime number. "
   ]
  },
  {
   "cell_type": "markdown",
   "metadata": {},
   "source": [
    "***Q2, The prime 41, can be written as the sum of six consecutive primes:\n",
    "            41=2+3+5+7+11+13\n",
    "This is the longest sum of consecutive primes that adds to a prime below one-hundred.\n",
    "The longest sum of consecutive primes below one-thousand that adds to aprime, contains 21 terms, and is equal to 953. Which prime below one million can be written as the sum of the most consecutive primes?(Solved by 62,918 people)***"
   ]
  },
  {
   "cell_type": "code",
   "execution_count": 38,
   "metadata": {},
   "outputs": [
    {
     "name": "stdout",
     "output_type": "stream",
     "text": [
      "The required answer is : 958577 contains 536 items\n"
     ]
    }
   ],
   "source": [
    "import sympy\n",
    "sum=0\n",
    "num_lst = []\n",
    "sum_lst = []\n",
    "prime_sum_lst = []\n",
    "limit = 1000000\n",
    "for num in range(1,limit):\n",
    "    if sympy.isprime(num) is True:\n",
    "        sum+=num\n",
    "        num_lst.append(num)\n",
    "        sum_lst.append(sum)\n",
    "\n",
    "for sum in sum_lst:\n",
    "    if sum<limit:\n",
    "        if sympy.isprime(sum)==True:\n",
    "            prime_sum_lst.append(sum)\n",
    "\n",
    "\n",
    "max_sum = max(prime_sum_lst)\n",
    "index = sum_lst.index(max_sum)+1\n",
    "\n",
    "print(\"The required answer is :\", max_sum, 'contains', index, 'items')"
   ]
  },
  {
   "cell_type": "markdown",
   "metadata": {},
   "source": [
    "Explanation for Q2: I use the function isprime from numpy. First, I created a list called num_lst that contains all elements below 1,000,000. I select all prime numbers from 1 to 1,000,000. The sum_lst list contains all possible consecutive sum(eg, 2,5,10,17,28,41). The second for loop select all possible sum betlow 1,000,000 that is a prime number. The prime_sum_lst includes elements (eg, 2,5,17,41). Use the mac() function to select the largest element in prime_sum_lst list. Then, use the index function to get position of max_sum in the sum_lst that is equal to the number of elements in this max_sum."
   ]
  },
  {
   "cell_type": "markdown",
   "metadata": {},
   "source": [
    "***Q3, The smallest number expressible as the sum of a prime square, prime cube, and prime fourth power is 28. In fact, there are exactly four numbers below fifty that can be expressed in such a way:\n",
    "28 = 2^2 + 2^3 + 2^4\n",
    "33 = 3^2 + 2^3 + 2^4\n",
    "How many numbers below fifty million can be expressed as the sum of a prime square, prime cube, and prime fourth power? (solved by 20805 people)***"
   ]
  },
  {
   "cell_type": "code",
   "execution_count": 65,
   "metadata": {},
   "outputs": [
    {
     "data": {
      "text/plain": [
       "1097343"
      ]
     },
     "execution_count": 65,
     "metadata": {},
     "output_type": "execute_result"
    }
   ],
   "source": [
    "import numpy as np\n",
    "\n",
    "limit = 50000000\n",
    "\n",
    "max_prime = int(limit**0.5)\n",
    "#All possible prime numbers should be smaller than the square root of fifty million.\n",
    "\n",
    "prime_sum = []\n",
    "\n",
    "#To get a list of prime numbers below max_prime using for loop\n",
    "for num in range(2, max_prime):\n",
    "    if sympy.isprime(num) is True:\n",
    "        num_prime.append(num)\n",
    "        \n",
    "for prime3 in num_prime:\n",
    "    prime_forth_power = prime3**4\n",
    "    if prime_forth_power > limit:\n",
    "        break \n",
    "    for prime2 in num_prime:\n",
    "        prime_third_forth = prime2**3 + prime_forth_power\n",
    "        if prime_third_forth > limit:\n",
    "            break\n",
    "        for prime1 in num_prime:\n",
    "            sum_power = prime1**2 + prime_third_forth\n",
    "            if sum_power > limit:\n",
    "                break\n",
    "            prime_sum.append(sum_power)\n",
    "\n",
    "def unique(list):\n",
    "    x = np.array(list)\n",
    "    unique_lst = np.unique(x)\n",
    "    return unique_lst\n",
    "\n",
    "result = len(unique(prime_sum))\n",
    "result"
   ]
  },
  {
   "cell_type": "markdown",
   "metadata": {},
   "source": [
    "Explanation for Q3: First use an expression num = a^2+b^2+c^2. a should be smaller than the square root of fifty million. If a^2 is greater than fifty million, this number should not be included in the expression. The max_prime is the maximum number that can be included in the expression. The num_prime includes all primes that can be used in the expression. The for loop selects numbers consists of a prime square, a prime cube and a prime fourth for prime numbers between 2 and max_prime. There are duplicate numbers in the prime_sum list. I create a function called unique() to select unique values in the prime_sum list. The \"result\" represents the number of unique elements int eh prime_sum list. \"result\" equals to the number of numbers below fifty million that can be expressed as the sum of a prime square, prime cube and prime fourth power. "
   ]
  }
 ],
 "metadata": {
  "kernelspec": {
   "display_name": "Python 3",
   "language": "python",
   "name": "python3"
  },
  "language_info": {
   "codemirror_mode": {
    "name": "ipython",
    "version": 3
   },
   "file_extension": ".py",
   "mimetype": "text/x-python",
   "name": "python",
   "nbconvert_exporter": "python",
   "pygments_lexer": "ipython3",
   "version": "3.7.8"
  }
 },
 "nbformat": 4,
 "nbformat_minor": 4
}
